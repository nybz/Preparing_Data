{
 "cells": [
  {
   "cell_type": "code",
   "execution_count": null,
   "metadata": {},
   "outputs": [],
   "source": [
    "%%HTML\n",
    "<style type=\"text/css\">\n",
    "    table.dataframe td, table.dataframe th {\n",
    "        border-style: solid;\n",
    "    }\n",
    "</style>"
   ]
  },
  {
   "cell_type": "code",
   "execution_count": 1,
   "metadata": {},
   "outputs": [],
   "source": [
    "%matplotlib inline \n",
    "import pandas as pd "
   ]
  },
  {
   "cell_type": "code",
   "execution_count": 2,
   "metadata": {},
   "outputs": [
    {
     "data": {
      "text/plain": [
       "'C:\\\\Users\\\\2918261\\\\Dropbox\\\\Corner Office Interviews\\\\Presentations\\\\Lecture_UiS'"
      ]
     },
     "execution_count": 2,
     "metadata": {},
     "output_type": "execute_result"
    }
   ],
   "source": [
    "import os\n",
    "os.chdir('C://Users//2918261//Dropbox//Corner Office Interviews//Presentations//Lecture_UiS')\n",
    "os.getcwd()\n",
    "## C://Users//2918261//Courses//Oslo Summer School//notebooks//Interviews//Text "
   ]
  },
  {
   "cell_type": "code",
   "execution_count": 3,
   "metadata": {},
   "outputs": [],
   "source": [
    "pd.set_option('display.max_colwidth', 120)"
   ]
  },
  {
   "cell_type": "markdown",
   "metadata": {},
   "source": [
    "## Reading single file and tokenize"
   ]
  },
  {
   "cell_type": "code",
   "execution_count": null,
   "metadata": {},
   "outputs": [],
   "source": [
    "import glob"
   ]
  },
  {
   "cell_type": "code",
   "execution_count": null,
   "metadata": {},
   "outputs": [],
   "source": [
    "txt_files = glob.glob('C:/Users/2918261/Dropbox/Corner Office Interviews/ComparisonCorpusText/All_Combined/*.txt')"
   ]
  },
  {
   "cell_type": "code",
   "execution_count": null,
   "metadata": {},
   "outputs": [],
   "source": [
    "RomanStanek = open('C:/Users/2918261/Dropbox/Corner Office Interviews/ComparisonCorpusText/All_Combined/RomanStanekCombined.txt')"
   ]
  },
  {
   "cell_type": "code",
   "execution_count": null,
   "metadata": {},
   "outputs": [],
   "source": [
    "import nltk\n",
    "raw = RomanStanek.read()\n",
    "tokens = nltk.word_tokenize(raw)\n",
    "# text = nltk.Text(tokens)"
   ]
  },
  {
   "cell_type": "markdown",
   "metadata": {},
   "source": [
    "## Making a list of combined files in the directory "
   ]
  },
  {
   "cell_type": "code",
   "execution_count": null,
   "metadata": {},
   "outputs": [],
   "source": [
    "from os import listdir \n",
    "from os.path import isfile, join "
   ]
  },
  {
   "cell_type": "code",
   "execution_count": null,
   "metadata": {},
   "outputs": [],
   "source": [
    "onlyfiles = [f for f in listdir('C:/Users/2918261/Dropbox/Corner Office Interviews/ComparisonCorpusText/All_Combined')if isfile(join('C:/Users/2918261/Dropbox/Corner Office Interviews/ComparisonCorpusText/All_Combined/', f))]"
   ]
  },
  {
   "cell_type": "code",
   "execution_count": null,
   "metadata": {},
   "outputs": [],
   "source": []
  },
  {
   "cell_type": "markdown",
   "metadata": {},
   "source": [
    "## This works for combining all the files to make corpus"
   ]
  },
  {
   "cell_type": "code",
   "execution_count": 7,
   "metadata": {},
   "outputs": [],
   "source": [
    "import glob\n",
    "import io\n",
    "file_list = glob.glob(os.path.join(os.getcwd(), 'C://Users//2918261//Dropbox//Corner Office Interviews//Presentations//Lecture_UiS//TextData', '*.txt')) \n",
    "\n",
    "corpus = []\n",
    "\n",
    "for file_path in file_list:\n",
    "    with open(file_path, encoding='utf-8') as f_input:\n",
    "        corpus.append(f_input.read())\n",
    "        \n",
    "# print(corpus)"
   ]
  },
  {
   "cell_type": "code",
   "execution_count": 8,
   "metadata": {},
   "outputs": [
    {
     "data": {
      "text/plain": [
       "23"
      ]
     },
     "execution_count": 8,
     "metadata": {},
     "output_type": "execute_result"
    }
   ],
   "source": [
    "len(corpus)"
   ]
  },
  {
   "cell_type": "code",
   "execution_count": null,
   "metadata": {},
   "outputs": [],
   "source": []
  },
  {
   "cell_type": "markdown",
   "metadata": {},
   "source": [
    "## Saving python list to json"
   ]
  },
  {
   "cell_type": "code",
   "execution_count": 9,
   "metadata": {},
   "outputs": [],
   "source": [
    "import json"
   ]
  },
  {
   "cell_type": "code",
   "execution_count": 10,
   "metadata": {},
   "outputs": [],
   "source": [
    "json_object = json.dumps(corpus)"
   ]
  },
  {
   "cell_type": "code",
   "execution_count": 11,
   "metadata": {},
   "outputs": [
    {
     "data": {
      "text/plain": [
       "393830"
      ]
     },
     "execution_count": 11,
     "metadata": {},
     "output_type": "execute_result"
    }
   ],
   "source": [
    "len(json_object)"
   ]
  },
  {
   "cell_type": "code",
   "execution_count": 12,
   "metadata": {},
   "outputs": [],
   "source": [
    "with open('SO_jsonout.json', 'w') as outfile:\n",
    "    json.dump(corpus, outfile)\n"
   ]
  },
  {
   "cell_type": "code",
   "execution_count": 13,
   "metadata": {},
   "outputs": [],
   "source": [
    "interview = pd.read_json('C:/Users/2918261/Dropbox/Corner Office Interviews/Presentations//Lecture_UiS//SO_jsonout.json')"
   ]
  },
  {
   "cell_type": "code",
   "execution_count": 14,
   "metadata": {},
   "outputs": [
    {
     "data": {
      "text/html": [
       "<div>\n",
       "<style scoped>\n",
       "    .dataframe tbody tr th:only-of-type {\n",
       "        vertical-align: middle;\n",
       "    }\n",
       "\n",
       "    .dataframe tbody tr th {\n",
       "        vertical-align: top;\n",
       "    }\n",
       "\n",
       "    .dataframe thead th {\n",
       "        text-align: right;\n",
       "    }\n",
       "</style>\n",
       "<table border=\"1\" class=\"dataframe\">\n",
       "  <thead>\n",
       "    <tr style=\"text-align: right;\">\n",
       "      <th></th>\n",
       "      <th>0</th>\n",
       "    </tr>\n",
       "  </thead>\n",
       "  <tbody>\n",
       "    <tr>\n",
       "      <th>0</th>\n",
       "      <td>I never have. \\nI'm used to to having a company where the\\nideas that I have or something that I can easily pursue. ...</td>\n",
       "    </tr>\n",
       "    <tr>\n",
       "      <th>1</th>\n",
       "      <td>I'm 41\\nI just started a family. I take philanthropy very seriously, and I am learning about it and have given sever...</td>\n",
       "    </tr>\n",
       "    <tr>\n",
       "      <th>2</th>\n",
       "      <td>Excellent\\nWell I love your stuff.\\nOk\\nOh, I like Steve. And I have always been extremely complimentary of the impa...</td>\n",
       "    </tr>\n",
       "    <tr>\n",
       "      <th>3</th>\n",
       "      <td>Yeah. There’s three time periods, all of which have disappointments. There is 2015 until this particular pandemic hi...</td>\n",
       "    </tr>\n",
       "    <tr>\n",
       "      <th>4</th>\n",
       "      <td>\" What’s Twitter?\"\\n\"Well, I tweet interesting things pretty much as they come to me, and probably with not much of ...</td>\n",
       "    </tr>\n",
       "    <tr>\n",
       "      <th>5</th>\n",
       "      <td>This is something that the average person really has no idea about whatsoever. Not just the average person. Smart pe...</td>\n",
       "    </tr>\n",
       "    <tr>\n",
       "      <th>6</th>\n",
       "      <td>\"A little over $600.\"\\n\"The goal is to build another utility like Twitter that will scale to any kind of usage. Anyw...</td>\n",
       "    </tr>\n",
       "    <tr>\n",
       "      <th>7</th>\n",
       "      <td>THANKS FOR HAVING ME.  \\nTHANK YOU.  \\nWHAT IT MEANS FOR US IS THIS IS A MOMENT. WE'RE  ENTERING A NEW MARKET, AND W...</td>\n",
       "    </tr>\n",
       "    <tr>\n",
       "      <th>8</th>\n",
       "      <td>\"\"It doesn't matter to me.... What matters to me is, do we provide the best customer service. Internet shminternet. ...</td>\n",
       "    </tr>\n",
       "    <tr>\n",
       "      <th>9</th>\n",
       "      <td>\" Thanks. It is great to be here.\"\\n\"I think I always wanted to do it, even since I was a kid. I had the idea. I was...</td>\n",
       "    </tr>\n",
       "    <tr>\n",
       "      <th>10</th>\n",
       "      <td>I went to Stanford and started my pre-med classes. After my freshman year, I went back to Wausau [her hometown in Wi...</td>\n",
       "    </tr>\n",
       "    <tr>\n",
       "      <th>11</th>\n",
       "      <td>Thank you for having me. \\nI'm very excited to be here. \\nWell so, I was very precise in\\nwhat I thought I wanted to...</td>\n",
       "    </tr>\n",
       "    <tr>\n",
       "      <th>12</th>\n",
       "      <td>\"I rented the old Google office. So this is actually the office where I started my career in 1999. This is also wher...</td>\n",
       "    </tr>\n",
       "    <tr>\n",
       "      <th>13</th>\n",
       "      <td>\" The book is a combination of things. It’s partly stories from my own life and experience, partly data and research...</td>\n",
       "    </tr>\n",
       "    <tr>\n",
       "      <th>14</th>\n",
       "      <td>\"  We are between all of you and a late dinner.\"\\n\"  Thank you for having us.\"\\n\"  Bring it on.\"\\n\"  We’re ready.\"\\n...</td>\n",
       "    </tr>\n",
       "    <tr>\n",
       "      <th>15</th>\n",
       "      <td>\"The reason for that is, it seems to take a very unique  combination of technology, talent, business and marketing a...</td>\n",
       "    </tr>\n",
       "    <tr>\n",
       "      <th>16</th>\n",
       "      <td>Thank You. I am honored to be with you today at your commencement from one of the finest universities in the world. ...</td>\n",
       "    </tr>\n",
       "    <tr>\n",
       "      <th>17</th>\n",
       "      <td>Yes, 30 days.\\nIt’s doing great. Could I start off by giving you a little bit of a conceptual framework?\\nThe way we...</td>\n",
       "    </tr>\n",
       "    <tr>\n",
       "      <th>18</th>\n",
       "      <td>good morning welcome to Google I love you guys too can't believe it's one year already a beautiful day we've been jo...</td>\n",
       "    </tr>\n",
       "    <tr>\n",
       "      <th>19</th>\n",
       "      <td>\"There was a simplicity to my life, which was very nice compared with today’s world. We lived in a kind of modest ho...</td>\n",
       "    </tr>\n",
       "    <tr>\n",
       "      <th>20</th>\n",
       "      <td>﻿Hi everyone,\\nI want to thank the Gayglers Americas Steering Committee and Pride@YouTube for the good discussion ye...</td>\n",
       "    </tr>\n",
       "    <tr>\n",
       "      <th>21</th>\n",
       "      <td>sure so I mean privacy is a is a really important issue for us and for the Internet so we spent a lot of time thinki...</td>\n",
       "    </tr>\n",
       "    <tr>\n",
       "      <th>22</th>\n",
       "      <td>\"  Happy to do it.\"\\n\"Yeah. Happy to do it.\"\\n\"I saw the news about it.\"\\n\"Well the evidence that we’ve seen is quit...</td>\n",
       "    </tr>\n",
       "  </tbody>\n",
       "</table>\n",
       "</div>"
      ],
      "text/plain": [
       "                                                                                                                          0\n",
       "0   I never have. \\nI'm used to to having a company where the\\nideas that I have or something that I can easily pursue. ...\n",
       "1   I'm 41\\nI just started a family. I take philanthropy very seriously, and I am learning about it and have given sever...\n",
       "2   Excellent\\nWell I love your stuff.\\nOk\\nOh, I like Steve. And I have always been extremely complimentary of the impa...\n",
       "3   Yeah. There’s three time periods, all of which have disappointments. There is 2015 until this particular pandemic hi...\n",
       "4   \" What’s Twitter?\"\\n\"Well, I tweet interesting things pretty much as they come to me, and probably with not much of ...\n",
       "5   This is something that the average person really has no idea about whatsoever. Not just the average person. Smart pe...\n",
       "6   \"A little over $600.\"\\n\"The goal is to build another utility like Twitter that will scale to any kind of usage. Anyw...\n",
       "7   THANKS FOR HAVING ME.  \\nTHANK YOU.  \\nWHAT IT MEANS FOR US IS THIS IS A MOMENT. WE'RE  ENTERING A NEW MARKET, AND W...\n",
       "8   \"\"It doesn't matter to me.... What matters to me is, do we provide the best customer service. Internet shminternet. ...\n",
       "9   \" Thanks. It is great to be here.\"\\n\"I think I always wanted to do it, even since I was a kid. I had the idea. I was...\n",
       "10  I went to Stanford and started my pre-med classes. After my freshman year, I went back to Wausau [her hometown in Wi...\n",
       "11  Thank you for having me. \\nI'm very excited to be here. \\nWell so, I was very precise in\\nwhat I thought I wanted to...\n",
       "12  \"I rented the old Google office. So this is actually the office where I started my career in 1999. This is also wher...\n",
       "13  \" The book is a combination of things. It’s partly stories from my own life and experience, partly data and research...\n",
       "14  \"  We are between all of you and a late dinner.\"\\n\"  Thank you for having us.\"\\n\"  Bring it on.\"\\n\"  We’re ready.\"\\n...\n",
       "15  \"The reason for that is, it seems to take a very unique  combination of technology, talent, business and marketing a...\n",
       "16  Thank You. I am honored to be with you today at your commencement from one of the finest universities in the world. ...\n",
       "17  Yes, 30 days.\\nIt’s doing great. Could I start off by giving you a little bit of a conceptual framework?\\nThe way we...\n",
       "18  good morning welcome to Google I love you guys too can't believe it's one year already a beautiful day we've been jo...\n",
       "19  \"There was a simplicity to my life, which was very nice compared with today’s world. We lived in a kind of modest ho...\n",
       "20  ﻿Hi everyone,\\nI want to thank the Gayglers Americas Steering Committee and Pride@YouTube for the good discussion ye...\n",
       "21  sure so I mean privacy is a is a really important issue for us and for the Internet so we spent a lot of time thinki...\n",
       "22  \"  Happy to do it.\"\\n\"Yeah. Happy to do it.\"\\n\"I saw the news about it.\"\\n\"Well the evidence that we’ve seen is quit..."
      ]
     },
     "execution_count": 14,
     "metadata": {},
     "output_type": "execute_result"
    }
   ],
   "source": [
    "interview"
   ]
  },
  {
   "cell_type": "markdown",
   "metadata": {},
   "source": [
    "## Making list of filenames "
   ]
  },
  {
   "cell_type": "code",
   "execution_count": 15,
   "metadata": {},
   "outputs": [],
   "source": [
    "from os import listdir\n",
    "from os.path import isfile, join\n",
    "onlyfiles = [f for f in listdir('C://Users//2918261//Dropbox//Corner Office Interviews//Presentations//Lecture_UiS//TextData') if isfile(join('C://Users//2918261//Dropbox//Corner Office Interviews//Presentations//Lecture_UiS//TextData', f))]"
   ]
  },
  {
   "cell_type": "markdown",
   "metadata": {},
   "source": [
    "## Saving filenames to JSON "
   ]
  },
  {
   "cell_type": "code",
   "execution_count": 16,
   "metadata": {},
   "outputs": [],
   "source": [
    "json_object = json.dumps(onlyfiles)"
   ]
  },
  {
   "cell_type": "code",
   "execution_count": 17,
   "metadata": {},
   "outputs": [],
   "source": [
    "with open('filenames.json', 'w') as outfile:\n",
    "    json.dump(onlyfiles, outfile)"
   ]
  },
  {
   "cell_type": "markdown",
   "metadata": {},
   "source": [
    "## Concatenating filenames to interviews "
   ]
  },
  {
   "cell_type": "code",
   "execution_count": 19,
   "metadata": {},
   "outputs": [],
   "source": [
    "filenames = pd.read_json('C://Users//2918261//Dropbox//Corner Office Interviews//Presentations//Lecture_UiS/filenames.json')"
   ]
  },
  {
   "cell_type": "code",
   "execution_count": 20,
   "metadata": {},
   "outputs": [],
   "source": [
    "interviews = pd.concat([filenames, interview], axis = 1, join = 'inner')"
   ]
  },
  {
   "cell_type": "markdown",
   "metadata": {},
   "source": [
    "## Give column names after concatenating "
   ]
  },
  {
   "cell_type": "code",
   "execution_count": 21,
   "metadata": {},
   "outputs": [],
   "source": [
    "interviews.columns=['filename', 'text']"
   ]
  },
  {
   "cell_type": "markdown",
   "metadata": {},
   "source": [
    "## Alphabetically sort the filenames "
   ]
  },
  {
   "cell_type": "code",
   "execution_count": 22,
   "metadata": {},
   "outputs": [],
   "source": [
    "interviews = interviews.sort_values('filename').copy()"
   ]
  },
  {
   "cell_type": "code",
   "execution_count": 26,
   "metadata": {},
   "outputs": [],
   "source": [
    "interviews.to_json('interviews.json')"
   ]
  },
  {
   "cell_type": "markdown",
   "metadata": {},
   "source": [
    "## Reindex the rows for further concatenation "
   ]
  },
  {
   "cell_type": "code",
   "execution_count": 24,
   "metadata": {},
   "outputs": [],
   "source": [
    "interviews = pd.read_json('C://Users//2918261//Dropbox//Corner Office Interviews//Presentations//Lecture_UiS/interviews.json')"
   ]
  },
  {
   "cell_type": "code",
   "execution_count": 25,
   "metadata": {},
   "outputs": [],
   "source": [
    "interviews.reset_index(inplace = True, drop = True)"
   ]
  },
  {
   "cell_type": "markdown",
   "metadata": {},
   "source": [
    "## Time to concatenate with meta data..."
   ]
  },
  {
   "cell_type": "code",
   "execution_count": null,
   "metadata": {},
   "outputs": [],
   "source": [
    "meta = pd.read_excel('C:/Users/2918261/Dropbox/Corner Office Interviews/ComparisonCorpusText/LIWC_Combined_Full.xlsx')"
   ]
  },
  {
   "cell_type": "code",
   "execution_count": null,
   "metadata": {},
   "outputs": [],
   "source": [
    "list(meta)"
   ]
  },
  {
   "cell_type": "markdown",
   "metadata": {},
   "source": [
    "## Sort names alphabetically"
   ]
  },
  {
   "cell_type": "code",
   "execution_count": null,
   "metadata": {},
   "outputs": [],
   "source": [
    "meta = meta.sort_values('Name ').copy()"
   ]
  },
  {
   "cell_type": "markdown",
   "metadata": {},
   "source": [
    "## Only select relevant columns"
   ]
  },
  {
   "cell_type": "code",
   "execution_count": null,
   "metadata": {},
   "outputs": [],
   "source": [
    "meta = meta[['Name ', 'Gender', 'Organization', 'Current Age', 'NativeSpeaker', 'Traded', 'MBA', \n",
    "      'Sector_Grouped', 'Female','Sector_Grouped_Dic', 'Femininity', 'Masculinity']]"
   ]
  },
  {
   "cell_type": "markdown",
   "metadata": {},
   "source": [
    "## Concatenate and save to JSON "
   ]
  },
  {
   "cell_type": "code",
   "execution_count": null,
   "metadata": {
    "scrolled": true
   },
   "outputs": [],
   "source": [
    "interviews_full = pd.concat([interviews, meta], axis = 1, join = 'inner')"
   ]
  },
  {
   "cell_type": "code",
   "execution_count": null,
   "metadata": {},
   "outputs": [],
   "source": [
    "interviews_full.to_json('C:/Users/2918261/Dropbox/Corner Office Interviews/interviews_full.json')"
   ]
  },
  {
   "cell_type": "code",
   "execution_count": null,
   "metadata": {},
   "outputs": [],
   "source": []
  }
 ],
 "metadata": {
  "kernelspec": {
   "display_name": "Python 3",
   "language": "python",
   "name": "python3"
  },
  "language_info": {
   "codemirror_mode": {
    "name": "ipython",
    "version": 3
   },
   "file_extension": ".py",
   "mimetype": "text/x-python",
   "name": "python",
   "nbconvert_exporter": "python",
   "pygments_lexer": "ipython3",
   "version": "3.6.5"
  }
 },
 "nbformat": 4,
 "nbformat_minor": 2
}
