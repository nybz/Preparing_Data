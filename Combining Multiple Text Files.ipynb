{
 "cells": [
  {
   "cell_type": "code",
   "execution_count": 1,
   "metadata": {},
   "outputs": [],
   "source": [
    "import pandas as pd\n",
    "import re\n",
    "import requests\n",
    "pd.set_option('display.max_colwidth', 120)"
   ]
  },
  {
   "cell_type": "code",
   "execution_count": 2,
   "metadata": {},
   "outputs": [
    {
     "data": {
      "text/plain": [
       "'C:\\\\Users\\\\2918261\\\\Dropbox\\\\Corner Office Interviews\\\\ComparisonCorpusText'"
      ]
     },
     "execution_count": 2,
     "metadata": {},
     "output_type": "execute_result"
    }
   ],
   "source": [
    "import os\n",
    "from urllib.request import urlopen\n",
    "import http.cookiejar as cookielib\n",
    "import re\n",
    "import html.entities\n",
    "import codecs\n",
    "import time\n",
    "from bs4 import BeautifulSoup\n",
    "import contractions\n",
    "\n",
    "# C://Users//2918261//Courses//Oslo Summer School//notebooks//Interviews\n",
    "# C://Users//Toshiba//Dropbox//Corner Office Interviews//ComparisonCorpusText\n",
    "# C://Users//2918261//Courses//Oslo Summer School//notebooks//Interviews\n",
    "# os.chdir('C://Users//2918261//Dropbox//Corner Office Interviews//ComparisonCorpusText')\n",
    "# 'C://Users//Toshiba//Dropbox//Corner Office Interviews//ComparisonCorpusText'\n",
    "os.chdir('C://Users//2918261//Dropbox//Corner Office Interviews//ComparisonCorpusText')\n",
    "os.getcwd()"
   ]
  },
  {
   "cell_type": "markdown",
   "metadata": {},
   "source": [
    "# Caption + NYT "
   ]
  },
  {
   "cell_type": "code",
   "execution_count": null,
   "metadata": {},
   "outputs": [],
   "source": [
    "filenames = [r'C:\\Users\\2918261\\Dropbox\\Corner Office Interviews\\ComparisonCorpusText\\Caption_Talk_Unedited Transcript\\ToddRovak.txt', r'C:\\Users\\2918261\\Dropbox\\Corner Office Interviews\\Interviews_txt\\ToddRovak.txt']\n",
    "with open('ToddRovakCombined.txt', 'w') as outfile:\n",
    "    for fname in filenames:\n",
    "        with open(fname, errors ='ignore') as infile:\n",
    "            for line in infile:\n",
    "                outfile.write(line)"
   ]
  },
  {
   "cell_type": "code",
   "execution_count": null,
   "metadata": {},
   "outputs": [],
   "source": [
    "class TextCleaner:\n",
    "    uncleanText = open(\"ToddRovakCombined.txt\").read()\n",
    "    cleanText = re.sub('[^a-zA-Z0-9-_*.\\s]', '', uncleanText)\n",
    "    text = contractions.fix(cleanText)\n",
    "    open('ToddRovakCombined.txt', 'w').write(text)"
   ]
  },
  {
   "cell_type": "markdown",
   "metadata": {},
   "source": [
    "## Interview + NYT"
   ]
  },
  {
   "cell_type": "code",
   "execution_count": 7,
   "metadata": {
    "scrolled": true
   },
   "outputs": [],
   "source": [
    "filenames = [r'C:\\Users\\2918261\\Dropbox\\Corner Office Interviews\\ComparisonCorpusText\\Interview\\TonyHsieh.txt', r'C:\\Users\\2918261\\Dropbox\\Corner Office Interviews\\Interviews_txt\\TonyHsieh.txt']\n",
    "with open('TonyHsiehCombined.txt', 'w') as outfile:\n",
    "    for fname in filenames:\n",
    "        with open(fname,  errors = 'ignore') as infile:\n",
    "            for line in infile:\n",
    "                outfile.write(line)"
   ]
  },
  {
   "cell_type": "code",
   "execution_count": 8,
   "metadata": {},
   "outputs": [],
   "source": [
    "class TextCleaner:\n",
    "    uncleanText = open(\"TonyHsiehCombined.txt\").read()\n",
    "    cleanText = re.sub('[^a-zA-Z0-9-_*.\\s]', '', uncleanText)\n",
    "    text = contractions.fix(cleanText)\n",
    "    open('TonyHsiehCombined.txt', 'w').write(text)"
   ]
  },
  {
   "cell_type": "markdown",
   "metadata": {},
   "source": [
    "## Podcast + NYT"
   ]
  },
  {
   "cell_type": "code",
   "execution_count": null,
   "metadata": {
    "scrolled": true
   },
   "outputs": [],
   "source": [
    "filenames = [r'C:\\Users\\2918261\\Dropbox\\Corner Office Interviews\\ComparisonCorpusText\\Podcast_Lightly Edited Transcript\\WendyKopp.txt', r'C:\\Users\\2918261\\Dropbox\\Corner Office Interviews\\Interviews_txt\\WendyKopp.txt']\n",
    "with open('WendyKoppCombined.txt', 'w') as outfile:\n",
    "    for fname in filenames:\n",
    "        with open(fname, errors = 'ignore' ) as infile:\n",
    "            for line in infile:\n",
    "                outfile.write(line)"
   ]
  },
  {
   "cell_type": "code",
   "execution_count": null,
   "metadata": {},
   "outputs": [],
   "source": [
    "class TextCleaner:\n",
    "    uncleanText = open(\"WendyKoppCombined.txt\").read()\n",
    "    cleanText = re.sub('[^a-zA-Z0-9-_*.\\s]', '', uncleanText)\n",
    "    text = contractions.fix(cleanText)\n",
    "    open('WendyKoppCombined.txt', 'w').write(text)"
   ]
  },
  {
   "cell_type": "markdown",
   "metadata": {},
   "source": [
    "## Essay + NYT"
   ]
  },
  {
   "cell_type": "code",
   "execution_count": null,
   "metadata": {},
   "outputs": [],
   "source": [
    "filenames = [r'C:\\Users\\2918261\\Dropbox\\Corner Office Interviews\\ComparisonCorpusText\\Essay\\VictorHo.txt', r'C:\\Users\\2918261\\Dropbox\\Corner Office Interviews\\Interviews_txt\\VictorHo.txt']\n",
    "with open('VictorHoCombined.txt', 'w', encoding ='utf-8') as outfile:\n",
    "    for fname in filenames:\n",
    "        with open(fname, errors = 'ignore') as infile:\n",
    "            for line in infile:\n",
    "                outfile.write(line)"
   ]
  },
  {
   "cell_type": "code",
   "execution_count": null,
   "metadata": {},
   "outputs": [],
   "source": [
    "class TextCleaner:\n",
    "    uncleanText = open(\"VictorHoCombined.txt\", encoding ='utf-8').read()\n",
    "    cleanText = re.sub('[^a-zA-Z0-9-_*.\\s]', '', uncleanText)\n",
    "    text = contractions.fix(cleanText)\n",
    "    open('VictorHoCombined.txt', 'w').write(text)"
   ]
  },
  {
   "cell_type": "markdown",
   "metadata": {},
   "source": [
    "# Interview Pieces_Quotes + NYT"
   ]
  },
  {
   "cell_type": "code",
   "execution_count": null,
   "metadata": {
    "scrolled": true
   },
   "outputs": [],
   "source": [
    "filenames = [r'C:\\Users\\2918261\\Dropbox\\Corner Office Interviews\\ComparisonCorpusText\\Interview Pieces_Quotes_SingleResponses_Monologues\\TracyDolgin.txt', r'C:\\Users\\2918261\\Dropbox\\Corner Office Interviews\\Interviews_txt\\TracyDolgin.txt']\n",
    "with open('TomEricksonCombined.txt', 'w') as outfile:\n",
    "    for fname in filenames:\n",
    "        with open(fname, errors = 'ignore') as infile:\n",
    "            for line in infile:\n",
    "                outfile.write(line)"
   ]
  },
  {
   "cell_type": "code",
   "execution_count": null,
   "metadata": {},
   "outputs": [],
   "source": [
    "class TextCleaner:\n",
    "    uncleanText = open(\"TracyDolginCombined.txt\").read()\n",
    "    cleanText = re.sub('[^a-zA-Z0-9-_*.\\s]', '', uncleanText)\n",
    "    text = contractions.fix(cleanText)\n",
    "    open('TracyDolginCombined.txt', 'w').write(text)"
   ]
  },
  {
   "cell_type": "markdown",
   "metadata": {},
   "source": [
    "## Podcast + Caption + NYT"
   ]
  },
  {
   "cell_type": "code",
   "execution_count": null,
   "metadata": {
    "scrolled": true
   },
   "outputs": [],
   "source": [
    "filenames = [r'C:\\Users\\2918261\\Dropbox\\Corner Office Interviews\\ComparisonCorpusText\\Podcast_Lightly Edited Transcript\\KatrinaLake.txt', r'C:\\Users\\2918261\\Dropbox\\Corner Office Interviews\\ComparisonCorpusText\\Caption_Talk_Unedited Transcript\\KatrinaLake.txt', r'C:\\Users\\2918261\\Dropbox\\Corner Office Interviews\\Interviews_txt\\KatrinaLake.txt']\n",
    "with open('KatrinaLakeCombined.txt', 'w') as outfile:\n",
    "    for fname in filenames:\n",
    "        with open(fname, errors = 'ignore' ) as infile:\n",
    "            for line in infile:\n",
    "                outfile.write(line)"
   ]
  },
  {
   "cell_type": "code",
   "execution_count": null,
   "metadata": {},
   "outputs": [],
   "source": [
    "class TextCleaner:\n",
    "    uncleanText = open(\"KatrinaLakeCombined.txt\").read()\n",
    "    cleanText = re.sub('[^a-zA-Z0-9-_*.\\s]', '', uncleanText)\n",
    "    text = contractions.fix(cleanText)\n",
    "    open('KatrinaLakeCombined.txt', 'w').write(text)"
   ]
  },
  {
   "cell_type": "markdown",
   "metadata": {},
   "source": [
    "## Caption + Interview Pieces_Quotes + NYT"
   ]
  },
  {
   "cell_type": "code",
   "execution_count": null,
   "metadata": {
    "scrolled": true
   },
   "outputs": [],
   "source": [
    "filenames = [r'C:\\Users\\2918261\\Dropbox\\Corner Office Interviews\\ComparisonCorpusText\\Caption_Talk_Unedited Transcript\\TienTzuo.txt', r'C:\\Users\\2918261\\Dropbox\\Corner Office Interviews\\ComparisonCorpusText\\Interview Pieces_Quotes_SingleResponses_Monologues\\TienTzuo.txt', r'C:\\Users\\2918261\\Dropbox\\Corner Office Interviews\\Interviews_txt\\TienTzuo.txt']\n",
    "with open('TienTzuoCombined.txt', 'w') as outfile:\n",
    "    for fname in filenames:\n",
    "        with open(fname, errors = 'ignore' ) as infile:\n",
    "            for line in infile:\n",
    "                outfile.write(line)"
   ]
  },
  {
   "cell_type": "code",
   "execution_count": null,
   "metadata": {},
   "outputs": [],
   "source": [
    "class TextCleaner:\n",
    "    uncleanText = open(\"TienTzuoCombined.txt\").read()\n",
    "    cleanText = re.sub('[^a-zA-Z0-9-_*.\\s]', '', uncleanText)\n",
    "    text = contractions.fix(cleanText)\n",
    "    open('TienTzuoCombined.txt', 'w').write(text)"
   ]
  },
  {
   "cell_type": "markdown",
   "metadata": {},
   "source": [
    "## Interview + Caption + NYT"
   ]
  },
  {
   "cell_type": "code",
   "execution_count": null,
   "metadata": {
    "scrolled": true
   },
   "outputs": [],
   "source": [
    "filenames = [r'C:\\Users\\2918261\\Dropbox\\Corner Office Interviews\\ComparisonCorpusText\\Interview\\SukhinderSinghCassidy.txt', r'C:\\Users\\2918261\\Dropbox\\Corner Office Interviews\\ComparisonCorpusText\\Caption_Talk_Unedited Transcript\\SukhinderSinghCassidy.txt', r'C:\\Users\\2918261\\Dropbox\\Corner Office Interviews\\Interviews_txt\\SukhinderSinghCassidy.txt']\n",
    "with open('SukhinderSinghCassidyCombined.txt', 'w') as outfile:\n",
    "    for fname in filenames:\n",
    "        with open(fname, errors = 'ignore' ) as infile:\n",
    "            for line in infile:\n",
    "                outfile.write(line)"
   ]
  },
  {
   "cell_type": "code",
   "execution_count": null,
   "metadata": {},
   "outputs": [],
   "source": [
    "class TextCleaner:\n",
    "    uncleanText = open(\"SukhinderSinghCassidyCombined.txt\").read()\n",
    "    cleanText = re.sub('[^a-zA-Z0-9-_*.\\s]', '', uncleanText)\n",
    "    text = contractions.fix(cleanText)\n",
    "    open('SukhinderSinghCassidyCombined.txt', 'w').write(text)"
   ]
  },
  {
   "cell_type": "markdown",
   "metadata": {},
   "source": [
    "# Podcast + Interview + NYT"
   ]
  },
  {
   "cell_type": "code",
   "execution_count": null,
   "metadata": {
    "scrolled": true
   },
   "outputs": [],
   "source": [
    "filenames = [r'C:\\Users\\2918261\\Dropbox\\Corner Office Interviews\\ComparisonCorpusText\\Podcast_Lightly Edited Transcript\\SusanLyne.txt', r'C:\\Users\\2918261\\Dropbox\\Corner Office Interviews\\ComparisonCorpusText\\Interview\\SusanLyne.txt', r'C:\\Users\\2918261\\Dropbox\\Corner Office Interviews\\Interviews_txt\\SusanLyne.txt']\n",
    "with open('SusanLyneCombined.txt', 'w', encoding ='utf8') as outfile:\n",
    "    for fname in filenames:\n",
    "        with open(fname, errors = 'ignore') as infile:\n",
    "            for line in infile:\n",
    "                outfile.write(line)"
   ]
  },
  {
   "cell_type": "code",
   "execution_count": null,
   "metadata": {},
   "outputs": [],
   "source": [
    "class TextCleaner:\n",
    "    uncleanText = open(\"SusanLyneCombined.txt\", encoding ='utf8').read()\n",
    "    cleanText = re.sub('[^a-zA-Z0-9-_*.\\s]', '', uncleanText)\n",
    "    text = contractions.fix(cleanText)\n",
    "    open('SusanLyneCombined.txt', 'w').write(text)"
   ]
  },
  {
   "cell_type": "markdown",
   "metadata": {},
   "source": [
    "## Interview + Pieces_Quotes + NYT"
   ]
  },
  {
   "cell_type": "code",
   "execution_count": null,
   "metadata": {
    "scrolled": true
   },
   "outputs": [],
   "source": [
    "filenames = [r'C:\\Users\\2918261\\Dropbox\\Corner Office Interviews\\ComparisonCorpusText\\Interview\\SteveStoute.txt', r'C:\\Users\\2918261\\Dropbox\\Corner Office Interviews\\ComparisonCorpusText\\Interview Pieces_Quotes_SingleResponses_Monologues\\SteveStoute.txt', r'C:\\Users\\2918261\\Dropbox\\Corner Office Interviews\\Interviews_txt\\SteveStoute.txt']\n",
    "with open('SteveStouteCombined.txt', 'w', encoding ='utf8') as outfile:\n",
    "    for fname in filenames:\n",
    "        with open(fname, errors = 'ignore') as infile:\n",
    "            for line in infile:\n",
    "                outfile.write(line)"
   ]
  },
  {
   "cell_type": "code",
   "execution_count": null,
   "metadata": {},
   "outputs": [],
   "source": [
    "class TextCleaner:\n",
    "    uncleanText = open(\"SteveStouteCombined.txt\", encoding ='utf-8').read()\n",
    "    cleanText = re.sub('[^a-zA-Z0-9-_*.\\s]', '', uncleanText)\n",
    "    text = contractions.fix(cleanText)\n",
    "    open('SteveStouteCombined.txt', 'w').write(text)"
   ]
  },
  {
   "cell_type": "markdown",
   "metadata": {},
   "source": [
    "## Caption + Essay + NYT"
   ]
  },
  {
   "cell_type": "code",
   "execution_count": null,
   "metadata": {
    "scrolled": true
   },
   "outputs": [],
   "source": [
    "filenames = [r'C:\\Users\\2918261\\Dropbox\\Corner Office Interviews\\ComparisonCorpusText\\Caption_Talk_Unedited Transcript\\TienTzuo.txt', r'C:\\Users\\2918261\\Dropbox\\Corner Office Interviews\\ComparisonCorpusText\\Essay\\TienTzuo.txt', r'C:\\Users\\2918261\\Dropbox\\Corner Office Interviews\\Interviews_txt\\TienTzuo.txt']\n",
    "with open('TienTzuoCombined.txt', 'w', encoding ='utf8') as outfile:\n",
    "    for fname in filenames:\n",
    "        with open(fname, errors = 'ignore') as infile:\n",
    "            for line in infile:\n",
    "                outfile.write(line)"
   ]
  },
  {
   "cell_type": "code",
   "execution_count": null,
   "metadata": {},
   "outputs": [],
   "source": [
    "class TextCleaner:\n",
    "    uncleanText = open(\"TienTzuoCombined.txt\", encoding ='utf-8').read()\n",
    "    cleanText = re.sub('[^a-zA-Z0-9-_*.\\s]', '', uncleanText)\n",
    "    text = contractions.fix(cleanText)\n",
    "    open('TienTzuoCombined.txt', 'w').write(text)"
   ]
  },
  {
   "cell_type": "markdown",
   "metadata": {},
   "source": [
    "## Interview + Essay + NYT"
   ]
  },
  {
   "cell_type": "code",
   "execution_count": null,
   "metadata": {},
   "outputs": [],
   "source": [
    "filenames = [r'C:\\Users\\2918261\\Dropbox\\Corner Office Interviews\\ComparisonCorpusText\\Interview\\PaulEnglish.txt', r'C:\\Users\\2918261\\Dropbox\\Corner Office Interviews\\ComparisonCorpusText\\Essay\\PaulEnglish.txt', r'C:\\Users\\2918261\\Dropbox\\Corner Office Interviews\\Interviews_txt\\PaulEnglish.txt']\n",
    "with open('PaulEnglishCombined.txt', 'w', encoding ='utf-8') as outfile:\n",
    "    for fname in filenames:\n",
    "        with open(fname, errors = 'ignore') as infile:\n",
    "            for line in infile:\n",
    "                outfile.write(line)"
   ]
  },
  {
   "cell_type": "code",
   "execution_count": null,
   "metadata": {},
   "outputs": [],
   "source": [
    "class TextCleaner:\n",
    "    uncleanText = open(\"PaulEnglishCombined.txt\", encoding ='utf-8').read()\n",
    "    cleanText = re.sub('[^a-zA-Z0-9-_*.\\s]', '', uncleanText)\n",
    "    text = contractions.fix(cleanText)\n",
    "    open('PaulEnglishCombined.txt', 'w').write(text)"
   ]
  },
  {
   "cell_type": "markdown",
   "metadata": {},
   "source": [
    "## Podcast + Caption + Essay + NYT"
   ]
  },
  {
   "cell_type": "code",
   "execution_count": null,
   "metadata": {
    "scrolled": true
   },
   "outputs": [],
   "source": [
    "filenames = [r'C:\\Users\\2918261\\Dropbox\\Corner Office Interviews\\ComparisonCorpusText\\Podcast_Lightly Edited Transcript\\MarissaMayer.txt', r'C:\\Users\\2918261\\Dropbox\\Corner Office Interviews\\ComparisonCorpusText\\Caption_Talk_Unedited Transcript\\MarissaMayer.txt', r'C:\\Users\\2918261\\Dropbox\\Corner Office Interviews\\ComparisonCorpusText\\Essay\\MarissaMayer.txt', r'C:\\Users\\2918261\\Dropbox\\Corner Office Interviews\\Interviews_txt\\MarissaMayer.txt']\n",
    "with open('MarissaMayerCombined.txt', 'w') as outfile:\n",
    "    for fname in filenames:\n",
    "        with open(fname, errors = 'ignore' ) as infile:\n",
    "            for line in infile:\n",
    "                outfile.write(line)"
   ]
  },
  {
   "cell_type": "code",
   "execution_count": null,
   "metadata": {},
   "outputs": [],
   "source": [
    "class TextCleaner:\n",
    "    uncleanText = open(\"MarissaMayerCombined.txt\").read()\n",
    "    cleanText = re.sub('[^a-zA-Z0-9-_*.\\s]', '', uncleanText)\n",
    "    text = contractions.fix(cleanText)\n",
    "    open('MarissaMayerCombined.txt', 'w').write(text)"
   ]
  },
  {
   "cell_type": "markdown",
   "metadata": {},
   "source": [
    "# Interview + Caption + Essay + NYT"
   ]
  },
  {
   "cell_type": "code",
   "execution_count": null,
   "metadata": {
    "scrolled": true
   },
   "outputs": [],
   "source": [
    "filenames = [r'C:\\Users\\2918261\\Dropbox\\Corner Office Interviews\\ComparisonCorpusText\\Interview\\MargaretKeane.txt', r'C:\\Users\\2918261\\Dropbox\\Corner Office Interviews\\ComparisonCorpusText\\Caption_Talk_Unedited Transcript\\MargaretKeane .txt', r'C:\\Users\\2918261\\Dropbox\\Corner Office Interviews\\ComparisonCorpusText\\Essay\\MargaretKeane.txt', r'C:\\Users\\2918261\\Dropbox\\Corner Office Interviews\\Interviews_txt\\MargaretKeane.txt']\n",
    "with open('MargaretKeaneCombined.txt', 'w') as outfile:\n",
    "    for fname in filenames:\n",
    "        with open(fname, errors = 'ignore' ) as infile:\n",
    "            for line in infile:\n",
    "                outfile.write(line)"
   ]
  },
  {
   "cell_type": "code",
   "execution_count": null,
   "metadata": {},
   "outputs": [],
   "source": [
    "class TextCleaner:\n",
    "    uncleanText = open(\"MargaretKeaneCombined.txt\").read()\n",
    "    cleanText = re.sub('[^a-zA-Z0-9-_*.\\s]', '', uncleanText)\n",
    "    text = contractions.fix(cleanText)\n",
    "    open('MargaretKeaneCombined.txt', 'w').write(text)"
   ]
  },
  {
   "cell_type": "code",
   "execution_count": null,
   "metadata": {},
   "outputs": [],
   "source": []
  }
 ],
 "metadata": {
  "kernelspec": {
   "display_name": "Python 3",
   "language": "python",
   "name": "python3"
  },
  "language_info": {
   "codemirror_mode": {
    "name": "ipython",
    "version": 3
   },
   "file_extension": ".py",
   "mimetype": "text/x-python",
   "name": "python",
   "nbconvert_exporter": "python",
   "pygments_lexer": "ipython3",
   "version": "3.6.5"
  }
 },
 "nbformat": 4,
 "nbformat_minor": 2
}
