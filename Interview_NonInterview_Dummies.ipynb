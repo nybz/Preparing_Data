{
 "cells": [
  {
   "cell_type": "code",
   "execution_count": 1,
   "metadata": {
    "slideshow": {
     "slide_type": "subslide"
    }
   },
   "outputs": [
    {
     "data": {
      "text/plain": [
       "'C:\\\\Users\\\\2918261\\\\Dropbox\\\\Corner Office Interviews'"
      ]
     },
     "execution_count": 1,
     "metadata": {},
     "output_type": "execute_result"
    }
   ],
   "source": [
    "import pandas as pd\n",
    "import os\n",
    "import numpy as np\n",
    "os.chdir('C://Users//2918261//Dropbox//Corner Office Interviews')\n",
    "         #Toshiba//Dropbox//Corner Office Interviews')\n",
    "### 'C://Users//2918261//Courses//Oslo Summer School//notebooks//Experiment'\n",
    "### C://Users//2918261//Dropbox//Corner Office Interviews\n",
    "os.getcwd()\n",
    "# C:\\Users\\Toshiba\\Dropbox\\Corner Office Interviews\\LIWC.xlsx"
   ]
  },
  {
   "cell_type": "code",
   "execution_count": 2,
   "metadata": {
    "slideshow": {
     "slide_type": "fragment"
    }
   },
   "outputs": [],
   "source": [
    "Complete = pd.read_excel('C://Users//2918261//Dropbox//Corner Office Interviews//AllFrames.xlsx')"
   ]
  },
  {
   "cell_type": "code",
   "execution_count": 3,
   "metadata": {},
   "outputs": [
    {
     "data": {
      "text/plain": [
       "['Name ',\n",
       " 'Gender',\n",
       " 'NYTage',\n",
       " 'AllPunc',\n",
       " 'Analytic',\n",
       " 'Apostro',\n",
       " 'Authentic',\n",
       " 'Clout',\n",
       " 'Colon',\n",
       " 'Comma',\n",
       " '2019_Age',\n",
       " 'Dash',\n",
       " 'Dic',\n",
       " 'Exclam',\n",
       " 'Female',\n",
       " 'Femininity',\n",
       " 'MBA',\n",
       " 'Masculinity',\n",
       " 'NativeSpeaker',\n",
       " 'OtherP',\n",
       " 'Parenth',\n",
       " 'Period',\n",
       " 'QMark',\n",
       " 'Quote',\n",
       " 'Sector_Grouped',\n",
       " 'Sector_Grouped_Dic',\n",
       " 'SemiC',\n",
       " 'Sixltr',\n",
       " 'Source',\n",
       " 'Tone',\n",
       " 'Traded',\n",
       " 'WC',\n",
       " 'WPS',\n",
       " 'Year_y',\n",
       " 'achieve',\n",
       " 'adj',\n",
       " 'adverb',\n",
       " 'affect',\n",
       " 'affiliation',\n",
       " 'anger',\n",
       " 'anx',\n",
       " 'article',\n",
       " 'assent',\n",
       " 'auxverb',\n",
       " 'bio',\n",
       " 'body',\n",
       " 'cause',\n",
       " 'certain',\n",
       " 'cogproc',\n",
       " 'compare',\n",
       " 'conj',\n",
       " 'death',\n",
       " 'differ',\n",
       " 'discrep',\n",
       " 'drives',\n",
       " 'family',\n",
       " 'feel',\n",
       " 'female',\n",
       " 'filler',\n",
       " 'focusfuture',\n",
       " 'focuspast',\n",
       " 'focuspresent',\n",
       " 'friend',\n",
       " 'function',\n",
       " 'health',\n",
       " 'hear',\n",
       " 'home',\n",
       " 'i',\n",
       " 'informal',\n",
       " 'ingest',\n",
       " 'insight',\n",
       " 'interrog',\n",
       " 'ipron',\n",
       " 'leisure',\n",
       " 'male',\n",
       " 'money',\n",
       " 'motion',\n",
       " 'negate',\n",
       " 'negemo',\n",
       " 'netspeak',\n",
       " 'nonflu',\n",
       " 'number',\n",
       " 'percept',\n",
       " 'posemo',\n",
       " 'power',\n",
       " 'ppron',\n",
       " 'prep',\n",
       " 'pronoun',\n",
       " 'quant',\n",
       " 'relativ',\n",
       " 'relig',\n",
       " 'reward',\n",
       " 'risk',\n",
       " 'sad',\n",
       " 'see',\n",
       " 'sexual',\n",
       " 'shehe',\n",
       " 'social',\n",
       " 'space',\n",
       " 'swear',\n",
       " 'tentat',\n",
       " 'they',\n",
       " 'time',\n",
       " 'verb',\n",
       " 'we',\n",
       " 'work',\n",
       " 'you',\n",
       " 'Source_Dic']"
      ]
     },
     "execution_count": 3,
     "metadata": {},
     "output_type": "execute_result"
    }
   ],
   "source": [
    "list(Complete.columns)"
   ]
  },
  {
   "cell_type": "code",
   "execution_count": 4,
   "metadata": {},
   "outputs": [
    {
     "data": {
      "text/plain": [
       "1082"
      ]
     },
     "execution_count": 4,
     "metadata": {},
     "output_type": "execute_result"
    }
   ],
   "source": [
    "len(Complete)"
   ]
  },
  {
   "cell_type": "code",
   "execution_count": 5,
   "metadata": {},
   "outputs": [
    {
     "data": {
      "text/plain": [
       "0               NYT\n",
       "1          Podcasts\n",
       "2               NYT\n",
       "3          Podcasts\n",
       "4       AInterviews\n",
       "           ...     \n",
       "1077            NYT\n",
       "1078            NYT\n",
       "1079          Other\n",
       "1080    AInterviews\n",
       "1081            NYT\n",
       "Name: Source_Dic, Length: 1082, dtype: object"
      ]
     },
     "execution_count": 5,
     "metadata": {},
     "output_type": "execute_result"
    }
   ],
   "source": [
    "Complete['Source_Dic']"
   ]
  },
  {
   "cell_type": "code",
   "execution_count": 12,
   "metadata": {},
   "outputs": [
    {
     "data": {
      "text/plain": [
       "0       1\n",
       "1       3\n",
       "2       1\n",
       "3       3\n",
       "4       2\n",
       "       ..\n",
       "1077    1\n",
       "1078    1\n",
       "1079    5\n",
       "1080    2\n",
       "1081    1\n",
       "Name: Source, Length: 1082, dtype: int64"
      ]
     },
     "execution_count": 12,
     "metadata": {},
     "output_type": "execute_result"
    }
   ],
   "source": [
    "Complete['Source']"
   ]
  },
  {
   "cell_type": "code",
   "execution_count": 14,
   "metadata": {},
   "outputs": [],
   "source": [
    "Complete['Interview'] = Complete['Source_Dic'].map({'NYT':1, 'AInterviews':1, 'Podcasts':0, 'Caption':0, 'Other':0, 'Essay':0})"
   ]
  },
  {
   "cell_type": "code",
   "execution_count": 17,
   "metadata": {},
   "outputs": [
    {
     "data": {
      "text/plain": [
       "1    762\n",
       "0    320\n",
       "Name: Interview, dtype: int64"
      ]
     },
     "execution_count": 17,
     "metadata": {},
     "output_type": "execute_result"
    }
   ],
   "source": [
    "Complete['Interview'].value_counts()"
   ]
  },
  {
   "cell_type": "code",
   "execution_count": 19,
   "metadata": {},
   "outputs": [],
   "source": [
    "Complete.to_excel('AllFrames.xlsx', index = False)"
   ]
  },
  {
   "cell_type": "code",
   "execution_count": null,
   "metadata": {},
   "outputs": [],
   "source": []
  }
 ],
 "metadata": {
  "kernelspec": {
   "display_name": "Python 3",
   "language": "python",
   "name": "python3"
  },
  "language_info": {
   "codemirror_mode": {
    "name": "ipython",
    "version": 3
   },
   "file_extension": ".py",
   "mimetype": "text/x-python",
   "name": "python",
   "nbconvert_exporter": "python",
   "pygments_lexer": "ipython3",
   "version": "3.6.5"
  },
  "widgets": {
   "application/vnd.jupyter.widget-state+json": {
    "state": {},
    "version_major": 2,
    "version_minor": 0
   }
  }
 },
 "nbformat": 4,
 "nbformat_minor": 2
}
